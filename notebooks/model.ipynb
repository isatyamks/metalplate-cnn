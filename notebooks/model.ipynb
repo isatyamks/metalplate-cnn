{
 "cells": [
  {
   "cell_type": "code",
   "execution_count": 1,
   "id": "6a7d739c",
   "metadata": {},
   "outputs": [],
   "source": [
    "import torch\n",
    "import torch.nn as nn\n",
    "import torchvision.models as models\n",
    "\n",
    "class VerticalImageClassifier(nn.Module):\n",
    "    def __init__(self, num_classes=361):\n",
    "        super(VerticalImageClassifier, self).__init__()\n",
    "        self.base_model = models.resnet18(weights='IMAGENET1K_V1')\n",
    "        self.base_model.conv1 = nn.Conv2d(3, 64, kernel_size=7, stride=2, padding=3, bias=False)  # adapt for 3-channel input\n",
    "        self.base_model.fc = nn.Linear(self.base_model.fc.in_features, num_classes)\n",
    "\n",
    "    def forward(self, x):\n",
    "        return self.base_model(x)\n"
   ]
  },
  {
   "cell_type": "code",
   "execution_count": 2,
   "id": "4d37c7c2",
   "metadata": {},
   "outputs": [],
   "source": [
    "from torchvision import transforms, datasets\n",
    "from torch.utils.data import DataLoader\n",
    "\n",
    "transform = transforms.Compose([\n",
    "    transforms.Resize((400, 200)),  # Match the synthetic image size\n",
    "    transforms.ToTensor(),\n",
    "    transforms.Normalize(mean=[0.5], std=[0.5])\n",
    "])\n",
    "\n",
    "dataset = datasets.ImageFolder(root='training_data', transform=transform)\n",
    "dataloader = DataLoader(dataset, batch_size=32, shuffle=True, num_workers=2)\n",
    "\n"
   ]
  },
  {
   "cell_type": "code",
   "execution_count": 3,
   "id": "1c975dc8",
   "metadata": {},
   "outputs": [
    {
     "name": "stdout",
     "output_type": "stream",
     "text": [
      "Downloading: \"https://download.pytorch.org/models/resnet18-f37072fd.pth\" to C:\\Users\\isatyamks/.cache\\torch\\hub\\checkpoints\\resnet18-f37072fd.pth\n"
     ]
    },
    {
     "name": "stderr",
     "output_type": "stream",
     "text": [
      "100%|██████████| 44.7M/44.7M [00:02<00:00, 20.7MB/s]\n"
     ]
    },
    {
     "name": "stdout",
     "output_type": "stream",
     "text": [
      "Epoch 1, Loss: 366.3761, Accuracy: 2.95%\n",
      "Epoch 2, Loss: 304.0107, Accuracy: 13.50%\n",
      "Epoch 3, Loss: 259.1966, Accuracy: 26.30%\n",
      "Epoch 4, Loss: 219.7125, Accuracy: 43.70%\n",
      "Epoch 5, Loss: 180.3483, Accuracy: 60.20%\n",
      "Epoch 6, Loss: 143.3228, Accuracy: 74.65%\n",
      "Epoch 7, Loss: 109.7042, Accuracy: 84.70%\n",
      "Epoch 8, Loss: 80.7930, Accuracy: 91.50%\n",
      "Epoch 9, Loss: 58.9144, Accuracy: 95.60%\n",
      "Epoch 10, Loss: 41.3902, Accuracy: 98.25%\n"
     ]
    }
   ],
   "source": [
    "import torch.optim as optim\n",
    "\n",
    "device = torch.device(\"cuda\" if torch.cuda.is_available() else \"cpu\")\n",
    "model = VerticalImageClassifier(num_classes=361).to(device)\n",
    "criterion = nn.CrossEntropyLoss()\n",
    "optimizer = optim.Adam(model.parameters(), lr=1e-4)\n",
    "\n",
    "# Training loop\n",
    "for epoch in range(10):  # Adjust as needed\n",
    "    model.train()\n",
    "    running_loss = 0.0\n",
    "    correct = 0\n",
    "\n",
    "    for inputs, labels in dataloader:\n",
    "        inputs, labels = inputs.to(device), labels.to(device)\n",
    "\n",
    "        optimizer.zero_grad()\n",
    "        outputs = model(inputs)\n",
    "        loss = criterion(outputs, labels)\n",
    "        loss.backward()\n",
    "        optimizer.step()\n",
    "\n",
    "        running_loss += loss.item()\n",
    "        _, preds = torch.max(outputs, 1)\n",
    "        correct += (preds == labels).sum().item()\n",
    "\n",
    "    accuracy = 100 * correct / len(dataset)\n",
    "    print(f\"Epoch {epoch+1}, Loss: {running_loss:.4f}, Accuracy: {accuracy:.2f}%\")\n"
   ]
  },
  {
   "cell_type": "code",
   "execution_count": 4,
   "id": "83611395",
   "metadata": {},
   "outputs": [],
   "source": [
    "torch.save(model.state_dict(), \"metal_plate_classifier.pth\")\n"
   ]
  },
  {
   "cell_type": "code",
   "execution_count": 17,
   "id": "802da39a",
   "metadata": {},
   "outputs": [],
   "source": [
    "image_path  = 'testing_data\\\\2.jpg'"
   ]
  },
  {
   "cell_type": "code",
   "execution_count": 6,
   "id": "279ac7cf",
   "metadata": {},
   "outputs": [
    {
     "data": {
      "text/plain": [
       "'testing_data\\\\1.jpg'"
      ]
     },
     "execution_count": 6,
     "metadata": {},
     "output_type": "execute_result"
    }
   ],
   "source": [
    "image_path"
   ]
  },
  {
   "cell_type": "code",
   "execution_count": 7,
   "id": "92b396a1",
   "metadata": {},
   "outputs": [],
   "source": [
    "def predict(image_path, model, class_names):\n",
    "    from PIL import Image\n",
    "    model.eval()\n",
    "    image = Image.open(image_path).convert('RGB')\n",
    "    image = transform(image).unsqueeze(0).to(device)\n",
    "\n",
    "    with torch.no_grad():\n",
    "        outputs = model(image)\n",
    "        _, predicted = torch.max(outputs, 1)\n",
    "    return class_names[predicted.item()]\n"
   ]
  },
  {
   "cell_type": "code",
   "execution_count": 13,
   "id": "bbb4c528",
   "metadata": {},
   "outputs": [],
   "source": [
    "def predict(image_path, model, class_names, device='cuda' if torch.cuda.is_available() else 'cpu'):\n",
    "    image = Image.open(image_path).convert(\"RGB\")\n",
    "    transform = transforms.Compose([\n",
    "        transforms.Resize((224, 224)),  # Resize to match model input\n",
    "        transforms.ToTensor(),\n",
    "        transforms.Normalize(mean=[0.5], std=[0.5])\n",
    "    ])\n",
    "    image = transform(image).unsqueeze(0)  # Add batch dimension\n",
    "    image = image.to(device)               # Move image to same device as model\n",
    "    model = model.to(device)               # Ensure model is on correct device\n",
    "    model.eval()\n",
    "\n",
    "    with torch.no_grad():\n",
    "        outputs = model(image)\n",
    "        _, predicted_idx = torch.max(outputs, 1)\n",
    "\n",
    "    predicted_label = class_names[predicted_idx.item()]\n",
    "    return predicted_label\n"
   ]
  },
  {
   "cell_type": "code",
   "execution_count": 14,
   "id": "26ff55c3",
   "metadata": {},
   "outputs": [],
   "source": [
    "class_names = [f\"A{str(i).zfill(4)}\" for i in range(361)]\n"
   ]
  },
  {
   "cell_type": "code",
   "execution_count": 20,
   "id": "7addddcc",
   "metadata": {},
   "outputs": [
    {
     "name": "stdout",
     "output_type": "stream",
     "text": [
      "A0314\n"
     ]
    }
   ],
   "source": [
    "image_path = 'testing_data//1.jpg'  # Path to your uploaded test image\n",
    "predicted_label = predict(image_path, model, class_names)\n",
    "\n",
    "print(predicted_label)"
   ]
  }
 ],
 "metadata": {
  "kernelspec": {
   "display_name": "base",
   "language": "python",
   "name": "python3"
  },
  "language_info": {
   "codemirror_mode": {
    "name": "ipython",
    "version": 3
   },
   "file_extension": ".py",
   "mimetype": "text/x-python",
   "name": "python",
   "nbconvert_exporter": "python",
   "pygments_lexer": "ipython3",
   "version": "3.13.2"
  }
 },
 "nbformat": 4,
 "nbformat_minor": 5
}
